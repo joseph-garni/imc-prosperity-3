{
 "cells": [
  {
   "cell_type": "markdown",
   "metadata": {},
   "source": [
    "# IMC Prosperity 3\n",
    "## Tutorial Round"
   ]
  },
  {
   "cell_type": "markdown",
   "metadata": {},
   "source": []
  },
  {
   "cell_type": "code",
   "execution_count": 2,
   "metadata": {},
   "outputs": [],
   "source": [
    "import numpy as np\n",
    "import math\n",
    "import pandas as pd\n",
    "import statistics\n",
    "import jsonpickle\n",
    "\n",
    "from datamodel import OrderDepth, UserId, TradingState, Order\n",
    "from typing import List\n",
    "import string\n",
    "\n",
    "class Trader:\n",
    "    \n",
    "    def run(self, state: TradingState):\n",
    "        # Only method required. It takes all buy and sell orders for all symbols as an input, and outputs a list of orders to be sent\n",
    "        print(\"traderData: \" + state.traderData)\n",
    "        print(\"Observations: \" + str(state.observations))\n",
    "        result = {}\n",
    "        for product in state.order_depths:\n",
    "            order_depth: OrderDepth = state.order_depths[product]\n",
    "            orders: List[Order] = []\n",
    "            acceptable_price = 10;  # Participant should calculate this value -> create function for calculating good price def_price (based on order book past data for bid)\n",
    "            print(\"Acceptable price : \" + str(acceptable_price))\n",
    "            print(\"Buy Order depth : \" + str(len(order_depth.buy_orders)) + \", Sell order depth : \" + str(len(order_depth.sell_orders)))\n",
    "    \n",
    "            if len(order_depth.sell_orders) != 0:\n",
    "                best_ask, best_ask_amount = list(order_depth.sell_orders.items())[0]\n",
    "                if int(best_ask) < acceptable_price:\n",
    "                    print(\"BUY\", str(-best_ask_amount) + \"x\", best_ask)\n",
    "                    orders.append(Order(product, best_ask, -best_ask_amount))\n",
    "    \n",
    "            if len(order_depth.buy_orders) != 0:\n",
    "                best_bid, best_bid_amount = list(order_depth.buy_orders.items())[0]\n",
    "                if int(best_bid) > acceptable_price:\n",
    "                    print(\"SELL\", str(best_bid_amount) + \"x\", best_bid)\n",
    "                    orders.append(Order(product, best_bid, -best_bid_amount))\n",
    "            \n",
    "            result[product] = orders\n",
    "    \n",
    "    \n",
    "        traderData = \"SAMPLE\" # String value holding Trader state data required. It will be delivered as TradingState.traderData on next execution.\n",
    "        \n",
    "        conversions = 1\n",
    "        return result, conversions, traderData\n",
    "    \n",
    "\n",
    "\n",
    "\n",
    "\n",
    "\n",
    "    "
   ]
  }
 ],
 "metadata": {
  "kernelspec": {
   "display_name": "Python 3",
   "language": "python",
   "name": "python3"
  },
  "language_info": {
   "codemirror_mode": {
    "name": "ipython",
    "version": 3
   },
   "file_extension": ".py",
   "mimetype": "text/x-python",
   "name": "python",
   "nbconvert_exporter": "python",
   "pygments_lexer": "ipython3",
   "version": "3.13.0"
  }
 },
 "nbformat": 4,
 "nbformat_minor": 2
}
